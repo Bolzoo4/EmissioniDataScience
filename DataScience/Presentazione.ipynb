{
 "cells": [
  {
   "cell_type": "markdown",
   "id": "151c4b1f-f94d-456c-a5c3-4b86cb87266f",
   "metadata": {
    "editable": true,
    "slideshow": {
     "slide_type": "subslide"
    },
    "tags": []
   },
   "source": [
    "# Emissioni in Europa \n",
    "## Studio sulla distribuzione geografica delle emissioni e modellazione del fenomeno \n",
    "Progetto per l'esame in Fondamenti di scienza dei dati e laboratorio, Università di Udine\n",
    "\n",
    "Bolzonello Riccardo 174049"
   ]
  },
  {
   "cell_type": "markdown",
   "id": "aaf01ab9-2428-409c-9845-4ae9258ecd72",
   "metadata": {
    "editable": true,
    "slideshow": {
     "slide_type": "slide"
    },
    "tags": []
   },
   "source": [
    "## Sentendo molto parlare della questione ambientale sorgono delle domande\n",
    "- Paesi più grandi inquinano di più?\n",
    "- Questi paesi sono vicini? Posso trovare delle zone altamente inquinanti?\n",
    "- È possibile modellare le emissioni con un indicatore economico?\n",
    "- In che modo le green tax influenzano le emissioni? "
   ]
  },
  {
   "cell_type": "markdown",
   "id": "321a5d9f-e3d5-4c69-89fa-a04ad96d6c20",
   "metadata": {
    "editable": true,
    "slideshow": {
     "slide_type": "slide"
    },
    "tags": []
   },
   "source": [
    "# Dataset\n",
    "## I dataset utilizzati provengono dal sito ufficiale dell'unione europea:Eurostat\n",
    "La piattaforma è stata interrogata per ottenere vari dataset:\n",
    "- [Enviromental Tax Revenue](https://ec.europa.eu/eurostat/databrowser/view/env_ac_tax__custom_17888984/default/table)\n",
    "- [Air pollutant by search sector](https://ec.europa.eu/eurostat/databrowser/view/env_air_emis__custom_17894217/default/table)\n",
    "- [Population by age and NUTS 2 Region](https://ec.europa.eu/eurostat/databrowser/view/cens_21agr2/default/table?lang=en&category=cens.cens_21.cens_21dc)\n",
    "- [Business demography by legal form and NACE Rev. 2 activity](https://ec.europa.eu/eurostat/databrowser/view/bd_l_form/default/table?lang=en&category=bsd.bd)\n",
    "- [GeoData by administrative-units](https://ec.europa.eu/eurostat/web/gisco/geodata/administrative-units/countries)"
   ]
  },
  {
   "cell_type": "markdown",
   "id": "1eb519dd-fb5e-4139-816a-8403eb466a4c",
   "metadata": {
    "editable": true,
    "slideshow": {
     "slide_type": "subslide"
    },
    "tags": []
   },
   "source": [
    "## I dataset contegono dati di carattere geografico e numerico, nello specifico\n",
    "- GeoPackage\n",
    "- Emissioni, in tonnelate\n",
    "- Numero di industrie manufatturiere per paese\n",
    "- Green Taxes, in percentuale sulle tasse totali, per anno dal 1995"
   ]
  },
  {
   "cell_type": "markdown",
   "id": "4713d511-427e-4d89-ad6e-f3fd893fa05b",
   "metadata": {
    "editable": true,
    "slideshow": {
     "slide_type": "subslide"
    },
    "tags": []
   },
   "source": [
    "Ma cos'è una Green Tax?\n",
    "## \"In economia, con il termine ecotassa (abbreviazione di tassa ecologica), anche nota come green tax o tassa verde ci si riferisce ad un tributo governativo esatto allo scopo di favorire la difesa dell'ambiente\"\n",
    "Fonte:https://it.wikipedia.org/wiki/Ecotassa"
   ]
  },
  {
   "cell_type": "markdown",
   "id": "00f8f4de-839a-4321-8461-8f046e97c7eb",
   "metadata": {
    "editable": true,
    "slideshow": {
     "slide_type": "slide"
    },
    "tags": []
   },
   "source": [
    "# Paesi più grandi inquinano di più?"
   ]
  },
  {
   "cell_type": "markdown",
   "id": "38adc820-59dc-4b98-82b0-089280a84278",
   "metadata": {
    "editable": true,
    "slideshow": {
     "slide_type": "subslide"
    },
    "tags": []
   },
   "source": [
    "![titolo](Grafici/Area-T.svg)"
   ]
  },
  {
   "cell_type": "markdown",
   "id": "5b7bc4aa-9a6d-4247-ab4b-8ee82ab1791a",
   "metadata": {
    "editable": true,
    "slideshow": {
     "slide_type": "slide"
    },
    "tags": []
   },
   "source": [
    "# Questi paesi sono vicini? Posso trovare delle zone altamente inquinate?"
   ]
  },
  {
   "cell_type": "markdown",
   "id": "ad83fdca-7cfd-4161-879f-2cd5486e00e2",
   "metadata": {
    "editable": true,
    "slideshow": {
     "slide_type": "subslide"
    },
    "tags": []
   },
   "source": [
    "![titolo](Grafici/EmissioniFisherJenks.svg)"
   ]
  },
  {
   "cell_type": "markdown",
   "id": "05c79992-ddb3-40d9-90f2-8cc28ab5c3be",
   "metadata": {
    "editable": true,
    "slideshow": {
     "slide_type": "subslide"
    },
    "tags": []
   },
   "source": [
    "## Sembra esserci una correlazione, proviamo a verificarlo utilizzando gli indicatori di Moran"
   ]
  },
  {
   "cell_type": "markdown",
   "id": "323c99ea-25b0-4907-adeb-d22eed97c748",
   "metadata": {
    "editable": true,
    "slideshow": {
     "slide_type": "subslide"
    },
    "tags": []
   },
   "source": [
    "### Autocorrelazione Spaziale Globale\n",
    "![titolo](Grafici/Moran_scatter.svg)"
   ]
  },
  {
   "cell_type": "markdown",
   "id": "71e73809-1a7a-459c-8238-0ec9b0f4bdf7",
   "metadata": {
    "editable": true,
    "slideshow": {
     "slide_type": "subslide"
    },
    "tags": []
   },
   "source": [
    "### Autocorrelazione Spaziale Locale\n",
    "![titolo](Grafici/LisaMap.svg)"
   ]
  },
  {
   "cell_type": "markdown",
   "id": "9f7fbb05-0444-4f5f-8163-15f6cfc3053b",
   "metadata": {
    "editable": true,
    "slideshow": {
     "slide_type": "slide"
    },
    "tags": []
   },
   "source": [
    "# È possibile modellare le emissioni con un indicatore economico? "
   ]
  },
  {
   "cell_type": "markdown",
   "id": "906a098b-36ea-4630-b54c-5b4e348db91a",
   "metadata": {
    "editable": true,
    "slideshow": {
     "slide_type": "subslide"
    },
    "tags": []
   },
   "source": [
    "## Proviamo a modellarlo utilizzando la densità industriale di un paese. \n",
    "#### Questo perchè al contrario del PIL non è influenzata dalla presenza di fonti di reddito non inquinanti"
   ]
  },
  {
   "cell_type": "markdown",
   "id": "f80db955-a798-4d14-912b-a782ec178d6b",
   "metadata": {
    "editable": true,
    "slideshow": {
     "slide_type": "subslide"
    },
    "tags": []
   },
   "source": [
    "![titolo](Grafici/DensitàIndustriale.svg)"
   ]
  },
  {
   "cell_type": "markdown",
   "id": "7d66d59f-76e3-451e-8755-221dd11e1ccb",
   "metadata": {
    "editable": true,
    "slideshow": {
     "slide_type": "subslide"
    },
    "tags": []
   },
   "source": [
    "![titolo](Grafici/ConfrontoDensitàIndustrialeEdEmissioni.svg)"
   ]
  },
  {
   "cell_type": "markdown",
   "id": "1b335e48-4304-46f8-8404-7f0b9cd193be",
   "metadata": {
    "editable": true,
    "slideshow": {
     "slide_type": "subslide"
    },
    "tags": []
   },
   "source": [
    "# Verifichiamo l'esistenza di una correlazione e proviamo a creare un modello"
   ]
  },
  {
   "cell_type": "markdown",
   "id": "131efe3c-58a3-4c6f-b527-414d128ab8b0",
   "metadata": {
    "editable": true,
    "slideshow": {
     "slide_type": "subslide"
    },
    "tags": []
   },
   "source": [
    "![titolo](Grafici/Regressione.svg)"
   ]
  },
  {
   "cell_type": "markdown",
   "id": "cccca190-d5a8-414d-8b6d-d8d61f21880a",
   "metadata": {
    "editable": true,
    "slideshow": {
     "slide_type": "slide"
    },
    "tags": []
   },
   "source": [
    "# In che modo le Green Tax influenzano le emissioni?"
   ]
  },
  {
   "cell_type": "markdown",
   "id": "0de1f0c1-152d-4e03-a8c1-66f87188bdb8",
   "metadata": {
    "editable": true,
    "slideshow": {
     "slide_type": "subslide"
    },
    "tags": []
   },
   "source": [
    "![titolo](Grafici/graficoVARtasseVARemissioni.svg)"
   ]
  },
  {
   "cell_type": "markdown",
   "id": "9cf4cfd3-6910-4255-99a9-2cc9669b4bd4",
   "metadata": {
    "editable": true,
    "slideshow": {
     "slide_type": "slide"
    },
    "tags": []
   },
   "source": [
    "# Considerazioni finali"
   ]
  },
  {
   "cell_type": "markdown",
   "id": "d8643090-7ce8-4a0a-8396-a7204c175733",
   "metadata": {
    "editable": true,
    "slideshow": {
     "slide_type": "subslide"
    },
    "tags": []
   },
   "source": [
    "1. #### I paesi più grandi inquinano di più?\n",
    "   Si può notare che generalemente paesi più piccoli inquinano meno, ma non c'è una correlazione abbastanza forte per poter modellare questa relazione con un modello lineare\n",
    "2. #### Questi paesi sono vicini? Posso trovare delle zone più inquinanti?\n",
    "   Sì, si possono notare delle zone più inquinanti, che corrispondono all'Europa centrale, e zone meno inquinanti, in Scandinavia ed Europa dell'est\n",
    "3. #### Posso modellare le emissioni con un indicatore economico?\n",
    "   Sì, la densità industriale è un indicatore affidabile per modellare le emissioni per km^2\n",
    "4. #### Che effetto hanno le Green Tax sulle emissioni dei paesi?\n",
    "   Per quanto si noti una costante diminuzione delle emissioni nel tempo, la relazione con le tasse applicate dai vari stati non è linearmente modellabile. È possibile che la relazione sia modellata anche da altri fattori, come per esempio incentivi statali"
   ]
  }
 ],
 "metadata": {
  "kernelspec": {
   "display_name": "Python 3 (ipykernel)",
   "language": "python",
   "name": "python3"
  },
  "language_info": {
   "codemirror_mode": {
    "name": "ipython",
    "version": 3
   },
   "file_extension": ".py",
   "mimetype": "text/x-python",
   "name": "python",
   "nbconvert_exporter": "python",
   "pygments_lexer": "ipython3",
   "version": "3.12.3"
  }
 },
 "nbformat": 4,
 "nbformat_minor": 5
}
